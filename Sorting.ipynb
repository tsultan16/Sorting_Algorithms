{
 "cells": [
  {
   "attachments": {},
   "cell_type": "markdown",
   "metadata": {},
   "source": [
    "Algorithm for merging two sorted arrays `B[]` and `C[]`. The input is an array `A[]` which is the concatenation of `B[]` and `C[]`"
   ]
  },
  {
   "cell_type": "code",
   "execution_count": 1,
   "metadata": {},
   "outputs": [],
   "source": [
    "import numpy as np\n",
    "\n",
    "def merge(A, left_lo, left_hi, right_lo, right_hi):\n",
    "    \n",
    "    B = A[left_lo:left_hi+1].copy() \n",
    "    C = A[right_lo:right_hi+1].copy()\n",
    "\n",
    "    p = 0\n",
    "    q = 0\n",
    "    i = left_lo\n",
    "    while((p <= (len(B)-1)) and (q <= (len(C)-1))):\n",
    "        if(B[p] <= C[q]):\n",
    "            A[i] = B[p]\n",
    "            p += 1\n",
    "        else:\n",
    "            A[i] = C[q]  \n",
    "            q += 1\n",
    "        i += 1 \n",
    "\n",
    "    if(p == len(B)):\n",
    "        A[i:right_hi+1] = C[q:]\n",
    "    else:\n",
    "        A[i:right_hi+1] = B[p:]    \n"
   ]
  },
  {
   "attachments": {},
   "cell_type": "markdown",
   "metadata": {},
   "source": [
    "Algorithm for performing a __`Merge Sort`__, where an unsorted input array is partitioned into two roughly equal parts, each partition is recursively sorted, then the sorted partitions are merged. "
   ]
  },
  {
   "cell_type": "code",
   "execution_count": 2,
   "metadata": {},
   "outputs": [],
   "source": [
    "import math\n",
    "\n",
    "def merge_sort(A, lo, hi):\n",
    "\n",
    "    if((hi-lo)>0):\n",
    "        # sort left partition\n",
    "        left_lo = lo\n",
    "        left_hi = left_lo + math.floor((hi-lo)/2) \n",
    "        merge_sort(A, left_lo, left_hi)\n",
    "\n",
    "        # sort right partition\n",
    "        right_lo = left_hi + 1\n",
    "        right_hi = hi\n",
    "        merge_sort(A, right_lo, right_hi)\n",
    "\n",
    "        # merging the sorted partitions\n",
    "        merge(A,left_lo, left_hi, right_lo, right_hi)\n",
    "\n",
    "        \n",
    "        "
   ]
  },
  {
   "attachments": {},
   "cell_type": "markdown",
   "metadata": {},
   "source": [
    "The `Lomuto partition` of an array `A[]` takes the first element of that array `p` and partitions the array such that all elements less than `p` are placed on the first partition, which is to the left of `p`, and all elements greater than `p` are placed in the second partition, which is to the right of `p`, with `p` sitting between the partitions. The result of this partitioning is that `p` is then the `(s+1)`th smallest element in the array, where `s` is the position of `p` in the array after the partitioning (with the starting index of the array being `0`). "
   ]
  },
  {
   "cell_type": "code",
   "execution_count": 3,
   "metadata": {},
   "outputs": [],
   "source": [
    "def lomuto_partition(A, lo, hi):\n",
    "\n",
    "    # pick first element as pivot\n",
    "    p = A[lo]\n",
    "\n",
    "    s = lo\n",
    "\n",
    "    # scan through all elements after the pivot, create two segments, a segment of all elements smaller than \n",
    "    # the pivot followed by all elements larger than the pivot\n",
    "    for i in range(lo+1, hi): \n",
    "        if(A[i] < p):\n",
    "            s += 1\n",
    "            temp = A[s]\n",
    "            A[s] = A[i]\n",
    "            A[i] = temp\n",
    "\n",
    "    # swap the pivot with the element at position s\n",
    "    temp = A[s]\n",
    "    A[s] = A[lo]\n",
    "    A[lo] = temp\n",
    "\n",
    "    return s"
   ]
  },
  {
   "attachments": {},
   "cell_type": "markdown",
   "metadata": {},
   "source": [
    "**Quick-select algorithm:** This algorithm utilizes Lomuto partitioning to find the `k`th smallest element in an unsorted array. Given an unsorted array, if we apply Lomuto partitioning using the first element as pivot, then the resulting partioning position `s` of the pivot tells us that this position contains the `(s+1)`th smallest element in the array. Now suppose we wanted to find the `k`th smalles element in the array. Then if `k=s+1`, then our problem is solved and we just return the pivot. Otherwise, if `k<s+1`, then we know that the `k`th smallest element of the array has to also be the `k`th smallest element of the left Lomuto partition (i.e elements smaller than the pivot). But if `k > s+1`, then that would mean that the `k`th smallest element of the array has to be the `(k-s-1)`th smallest element of the right Lomuto partition (i.e. elements larger than the pivot). So we've effectively reduced the problem of finding the `k`th smallest element in the entire array into just finding it in the sub-array which is one of the Lomuto partitions. We can recursively keep reducing the problem even further, i.e. by further Lomuto partitioning the sub-array until we reach the base case of the recursion where we have `k=s+1` and we've solved the problem. "
   ]
  },
  {
   "cell_type": "code",
   "execution_count": 4,
   "metadata": {},
   "outputs": [],
   "source": [
    "def quick_select(A, lo, hi, k):\n",
    "\n",
    "    # first apply Lomuto partitioning to the input array\n",
    "    s = lomuto_partition(A, lo, hi)\n",
    "\n",
    "    #print(f\"lo = {lo}, hi = {hi}, s = {s}, k = {k}, s-lo+1 = {s-lo+1}\")\n",
    "    #print(f\"After partition, A = {A}\")\n",
    "\n",
    "    # next determine if we've reached base case or need further recursion into either left or right partitions\n",
    "    if(k == s-lo+1):\n",
    "        return A[s]\n",
    "    elif(k < s-lo+1):\n",
    "        return quick_select(A, lo, s-1, k) \n",
    "    else:\n",
    "        return quick_select(A, s+1, hi, k-s-1) \n",
    "\n"
   ]
  },
  {
   "attachments": {},
   "cell_type": "markdown",
   "metadata": {},
   "source": [
    "Another useful partioning algorithm is called **`Hoare Partitioning`**. In this algorithm we choose the first element of an unsorted array `p` as the pivot, then we use two pointers to scan the array from outside-in, i.e. we have a pointer `i` starting at the second array position and moving to the right, and we have another pointer `j` starting at the last position and moving left. If pointer `i` encounters an element greater than or equal to `p`, it stops at that element. Similarly, `j` stops when it encounters an element smaller than or equal to `p`. Then we swap the elements at positions `i` and `j` and we continue moving the pointers inwards towards each other and stopping and swapping when necessary. When the pointers have crossed over each other (`i>j`), that means the partioning is complete with all elements smaller than `p` on the left side and all elements greater than `p` on the right. If `i` and `j` stop at the same position, then the element al that position must equal `p`. Finally we swap the first element/pivot with the element at position j to complete the partiioning. "
   ]
  },
  {
   "cell_type": "code",
   "execution_count": 14,
   "metadata": {},
   "outputs": [],
   "source": [
    "def hoare_partition(A, lo, hi):\n",
    "    i = lo+1\n",
    "    j = hi\n",
    "    p = A[lo]\n",
    "    while True:\n",
    "\n",
    "        while((A[i] <= p) and (i < hi)):\n",
    "            i += 1\n",
    "        while((A[j] >= p) and (j > lo)):\n",
    "            j-= 1 \n",
    "        \n",
    "        if (i >= j):\n",
    "            break\n",
    "        \n",
    "        #print(f\"i = {i}, j = {j}\")\n",
    "        #print(f\"Before swap = {A}\")\n",
    "        \n",
    "        temp = A[i]\n",
    "        A[i] = A[j]\n",
    "        A[j] = temp\n",
    "\n",
    "        #print(f\"After swap  = {A}\")\n",
    "\n",
    "    temp = A[j]\n",
    "    A[j] = A[lo]\n",
    "    A[lo] = temp\n",
    "    return j\n"
   ]
  },
  {
   "attachments": {},
   "cell_type": "markdown",
   "metadata": {},
   "source": [
    "The **`Quick-Sort`** algorithm: Given an unsorted array, we pick a pivot `p` (e.g. the first array element) and partition the array so that all elements less than `p` are placed to the left of `p` and all elements greater than `p` are placed to right. The position of `p` is then fixed because it is already in it's sorted position. Then we recursively apply the same partitioning to the left and right subarrays. The recursion stop when we reach the base case where each partition has only one element left. Each time a partioning happens, one element of the array becomes fixed in it's sorted position. "
   ]
  },
  {
   "cell_type": "code",
   "execution_count": 6,
   "metadata": {},
   "outputs": [],
   "source": [
    "def quick_sort(A, lo, hi):\n",
    "    if(lo < hi):\n",
    "\n",
    "        # apply Hoare partitioning\n",
    "        s = hoare_partition(A, lo, hi)\n",
    "        \n",
    "        # recursively sort the left and right sub arrays\n",
    "        quick_sort(A, lo, s-1)\n",
    "        quick_sort(A, s+1, hi)\n",
    "\n"
   ]
  },
  {
   "cell_type": "code",
   "execution_count": 15,
   "metadata": {},
   "outputs": [
    {
     "name": "stdout",
     "output_type": "stream",
     "text": [
      "After quick sort: [ 1  2  2  3  3  6  7  7  8 12 13 27 34 49 50 94]\n"
     ]
    }
   ],
   "source": [
    "A_test = np.array([50,3,34,2,3,13,7,49,8,12,94,2,27,7,1,6])\n",
    "quick_sort(A_test, 0, len(A_test)-1)\n",
    "print(f\"After quick sort: {A_test}\")"
   ]
  },
  {
   "cell_type": "code",
   "execution_count": 8,
   "metadata": {},
   "outputs": [
    {
     "name": "stdout",
     "output_type": "stream",
     "text": [
      "s=4\n",
      "\n",
      "After partitioning: [2 3 1 4 5 8 9 7] \n"
     ]
    }
   ],
   "source": [
    "A_test = np.array([5,3,1,9,8,2,4,7])\n",
    "print(f\"s={hoare_partition(A_test, 0, len(A_test)-1)}\") \n",
    "print(f\"\\nAfter partitioning: {A_test} \")"
   ]
  },
  {
   "cell_type": "code",
   "execution_count": 9,
   "metadata": {},
   "outputs": [
    {
     "name": "stdout",
     "output_type": "stream",
     "text": [
      "[ 5  8 17 21 37 42 49 54 60 69 78 82 90]\n"
     ]
    }
   ],
   "source": [
    "A1 = np.array([5, 8, 17, 21, 60, 69, 78])\n",
    "A2 = np.array([37, 42, 49, 54, 82, 90])\n",
    "\n",
    "A = np.concatenate((A1, A2), axis=0)\n",
    "left_lo = 0\n",
    "left_hi = len(A1)-1\n",
    "right_lo = left_hi + 1 \n",
    "right_hi = len(A1)+len(A2)-1\n",
    "merge(A,left_lo,left_hi,right_lo,right_hi)\n",
    "print(A)\n"
   ]
  },
  {
   "cell_type": "code",
   "execution_count": 10,
   "metadata": {},
   "outputs": [
    {
     "name": "stdout",
     "output_type": "stream",
     "text": [
      "Unsorted array: [17 69 21  5  8 60 78 43 90 82 49 37 54]\n",
      "After merge sort: [ 5  8 17 21 37 43 49 54 60 69 78 82 90]\n"
     ]
    }
   ],
   "source": [
    "As = np.array([17, 69, 21, 5, 8, 60, 78, 43, 90, 82, 49, 37, 54]) \n",
    "print(f\"Unsorted array: {As}\")\n",
    "merge_sort(As,0,len(As)-1)\n",
    "print(f\"After merge sort: {As}\")"
   ]
  },
  {
   "cell_type": "code",
   "execution_count": 11,
   "metadata": {},
   "outputs": [
    {
     "name": "stdout",
     "output_type": "stream",
     "text": [
      "5 [32 29 64 33 38 72 86 89 94 42]\n"
     ]
    }
   ],
   "source": [
    "Ap = np.array([72, 29, 64, 86, 33, 89, 38, 32, 94, 42])\n",
    "s = lomuto_partition(Ap, 0, len(Ap)-1)\n",
    "print(s, Ap)"
   ]
  },
  {
   "cell_type": "code",
   "execution_count": 12,
   "metadata": {},
   "outputs": [
    {
     "name": "stdout",
     "output_type": "stream",
     "text": [
      "8\n"
     ]
    }
   ],
   "source": [
    "Ak = np.array([4, 1, 10, 8, 7, 12, 9, 2, 15])\n",
    "k = 5\n",
    "median = quick_select(Ak, 0, len(Ak)-1, k) \n",
    "print(median)"
   ]
  },
  {
   "cell_type": "code",
   "execution_count": null,
   "metadata": {},
   "outputs": [],
   "source": []
  }
 ],
 "metadata": {
  "kernelspec": {
   "display_name": "base",
   "language": "python",
   "name": "python3"
  },
  "language_info": {
   "codemirror_mode": {
    "name": "ipython",
    "version": 3
   },
   "file_extension": ".py",
   "mimetype": "text/x-python",
   "name": "python",
   "nbconvert_exporter": "python",
   "pygments_lexer": "ipython3",
   "version": "3.9.13"
  },
  "orig_nbformat": 4
 },
 "nbformat": 4,
 "nbformat_minor": 2
}
